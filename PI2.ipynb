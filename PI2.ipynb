{
 "cells": [
  {
   "cell_type": "code",
   "execution_count": 6,
   "id": "f8b17fc3-9d72-4ae2-922a-fa7e51656364",
   "metadata": {},
   "outputs": [
    {
     "data": {
      "text/plain": [
       "'C:\\\\Users\\\\charl'"
      ]
     },
     "execution_count": 6,
     "metadata": {},
     "output_type": "execute_result"
    }
   ],
   "source": [
    "# Passo 0 - verificar qual a pasta de trabalho \"flagada\".\n",
    "import os\n",
    "os.getcwd()"
   ]
  },
  {
   "cell_type": "markdown",
   "id": "334714e8-9a8b-453f-9fb0-2342d7034ab1",
   "metadata": {},
   "source": [
    "# Passo 1. Criar a Pasta de Templates (HTML)\n",
    " Pasta onde os arquivos/layouts HTML serão armazenados. O Flask procura arquivos de template na pasta chamada \"templates\" por padrão."
   ]
  },
  {
   "cell_type": "code",
   "execution_count": 12,
   "id": "57d6f12b-7c39-46cc-8487-3cf7accb0efc",
   "metadata": {},
   "outputs": [],
   "source": [
    "os.makedirs('templates', exist_ok=True)\n"
   ]
  },
  {
   "cell_type": "markdown",
   "id": "01e92b97-0646-42bd-a103-92f1b7d62d63",
   "metadata": {},
   "source": [
    "# 2. Criar os Arquivos HTML Dentro da Pasta Templates\n"
   ]
  },
  {
   "cell_type": "markdown",
   "id": "f87782ad-eac8-4d7d-a30c-74e1f0feb919",
   "metadata": {},
   "source": [
    "### 2.1 Criando o template index "
   ]
  },
  {
   "cell_type": "code",
   "execution_count": 21,
   "id": "5e09abcd-7fcd-4371-935d-2b1053b462ed",
   "metadata": {},
   "outputs": [],
   "source": [
    "with open('templates/index.html', 'w') as f:\n",
    "    f.write('''\n",
    "    <!DOCTYPE html>\n",
    "    <html lang=\"en\">\n",
    "    <head>\n",
    "        <meta charset=\"UTF-8\">\n",
    "        <meta name=\"viewport\" content=\"width=device-width, initial-scale=1.0\">\n",
    "        <title>Controle de Estoque</title>\n",
    "    </head>\n",
    "    <body>\n",
    "        <h1>Controle de Estoque</h1>\n",
    "        <p>Estoque Atual:</p>\n",
    "        <!-- conteúdo será adicionado dinamicamente pelo Flask -->\n",
    "    </body>\n",
    "    </html>\n",
    "    ''')\n"
   ]
  },
  {
   "cell_type": "markdown",
   "id": "0d41d39d-5526-4ec3-bde3-8dea1b1b2f9f",
   "metadata": {},
   "source": [
    "### 2.2 Criando o template \"Reserva Confirmada\""
   ]
  },
  {
   "cell_type": "code",
   "execution_count": 30,
   "id": "a5b5998d-f13d-4e91-a069-10b963e336f7",
   "metadata": {},
   "outputs": [],
   "source": [
    "with open('templates/reserva_confirmada.html', 'w') as f:\n",
    "    f.write('''\n",
    "    <!DOCTYPE html>\n",
    "    <html lang=\"en\">\n",
    "    <head>\n",
    "        <meta charset=\"UTF-8\">\n",
    "        <meta name=\"viewport\" content=\"width=device-width, initial-scale=1.0\">\n",
    "        <title>Reserva Confirmada</title>\n",
    "    </head>\n",
    "    <body>\n",
    "        <h1>Parabéns, sua reserva foi efetuada!</h1>\n",
    "        <p>Atenção: você tem até 48h úteis para retirar seu pedido.</p>\n",
    "        <p>Você está locando os seguintes itens:</p>\n",
    "        <!-- lista de itens será renderizada pelo Flask -->\n",
    "    </body>\n",
    "    </html>\n",
    "    ''')\n"
   ]
  },
  {
   "cell_type": "code",
   "execution_count": 34,
   "id": "361954ed-b000-42c2-a628-706c0cd213cc",
   "metadata": {},
   "outputs": [
    {
     "data": {
      "text/plain": [
       "['index.html', 'reserva_confirmada.html']"
      ]
     },
     "execution_count": 34,
     "metadata": {},
     "output_type": "execute_result"
    }
   ],
   "source": [
    "# 2.3 - Para confirmar que os arquivos foram criados, use esse comando para listar:\n",
    "os.listdir('templates')\n"
   ]
  },
  {
   "cell_type": "markdown",
   "id": "ae2b1d1c-625e-4212-a662-231105597fa5",
   "metadata": {},
   "source": [
    "# 3. Criando o aplicativo com o flask\n",
    "Dado que já foram criados os templates no passo anterior, o Flask utilizará os arquivos HTML para renderizar as páginas."
   ]
  },
  {
   "cell_type": "code",
   "execution_count": 39,
   "id": "004fecda-2d74-4f15-a400-a79ce57f7171",
   "metadata": {},
   "outputs": [],
   "source": [
    "# Se não tiver instalado, rodar os codigos a seguir\n",
    "#!pip install Flask\n",
    "#!pip install flask_sqlalchemy\n",
    "#!pip install flask_ngrok"
   ]
  },
  {
   "cell_type": "code",
   "execution_count": null,
   "id": "9fa42f9b-d595-4eb0-b9e9-4e12754459d5",
   "metadata": {},
   "outputs": [
    {
     "name": "stdout",
     "output_type": "stream",
     "text": [
      " * Serving Flask app '__main__'\n",
      " * Debug mode: off\n"
     ]
    },
    {
     "name": "stderr",
     "output_type": "stream",
     "text": [
      "WARNING: This is a development server. Do not use it in a production deployment. Use a production WSGI server instead.\n",
      " * Running on http://127.0.0.1:5000\n",
      "Press CTRL+C to quit\n",
      "Exception in thread Thread-7:\n",
      "Traceback (most recent call last):\n",
      "  File \"C:\\ProgramData\\anaconda3\\Lib\\site-packages\\urllib3\\connection.py\", line 203, in _new_conn\n",
      "    sock = connection.create_connection(\n",
      "           ^^^^^^^^^^^^^^^^^^^^^^^^^^^^^\n",
      "  File \"C:\\ProgramData\\anaconda3\\Lib\\site-packages\\urllib3\\util\\connection.py\", line 85, in create_connection\n",
      "    raise err\n",
      "  File \"C:\\ProgramData\\anaconda3\\Lib\\site-packages\\urllib3\\util\\connection.py\", line 73, in create_connection\n",
      "    sock.connect(sa)\n",
      "ConnectionRefusedError: [WinError 10061] Nenhuma conexão pôde ser feita porque a máquina de destino as recusou ativamente\n",
      "\n",
      "The above exception was the direct cause of the following exception:\n",
      "\n",
      "Traceback (most recent call last):\n",
      "  File \"C:\\ProgramData\\anaconda3\\Lib\\site-packages\\urllib3\\connectionpool.py\", line 791, in urlopen\n",
      "    response = self._make_request(\n",
      "               ^^^^^^^^^^^^^^^^^^^\n",
      "  File \"C:\\ProgramData\\anaconda3\\Lib\\site-packages\\urllib3\\connectionpool.py\", line 497, in _make_request\n",
      "    conn.request(\n",
      "  File \"C:\\ProgramData\\anaconda3\\Lib\\site-packages\\urllib3\\connection.py\", line 395, in request\n",
      "    self.endheaders()\n",
      "  File \"C:\\ProgramData\\anaconda3\\Lib\\http\\client.py\", line 1289, in endheaders\n",
      "    self._send_output(message_body, encode_chunked=encode_chunked)\n",
      "  File \"C:\\ProgramData\\anaconda3\\Lib\\http\\client.py\", line 1048, in _send_output\n",
      "    self.send(msg)\n",
      "  File \"C:\\ProgramData\\anaconda3\\Lib\\http\\client.py\", line 986, in send\n",
      "    self.connect()\n",
      "  File \"C:\\ProgramData\\anaconda3\\Lib\\site-packages\\urllib3\\connection.py\", line 243, in connect\n",
      "    self.sock = self._new_conn()\n",
      "                ^^^^^^^^^^^^^^^^\n",
      "  File \"C:\\ProgramData\\anaconda3\\Lib\\site-packages\\urllib3\\connection.py\", line 218, in _new_conn\n",
      "    raise NewConnectionError(\n",
      "urllib3.exceptions.NewConnectionError: <urllib3.connection.HTTPConnection object at 0x00000219391BB8D0>: Failed to establish a new connection: [WinError 10061] Nenhuma conexão pôde ser feita porque a máquina de destino as recusou ativamente\n",
      "\n",
      "The above exception was the direct cause of the following exception:\n",
      "\n",
      "Traceback (most recent call last):\n",
      "  File \"C:\\ProgramData\\anaconda3\\Lib\\site-packages\\requests\\adapters.py\", line 486, in send\n",
      "    resp = conn.urlopen(\n",
      "           ^^^^^^^^^^^^^\n",
      "  File \"C:\\ProgramData\\anaconda3\\Lib\\site-packages\\urllib3\\connectionpool.py\", line 845, in urlopen\n",
      "    retries = retries.increment(\n",
      "              ^^^^^^^^^^^^^^^^^^\n",
      "  File \"C:\\ProgramData\\anaconda3\\Lib\\site-packages\\urllib3\\util\\retry.py\", line 515, in increment\n",
      "    raise MaxRetryError(_pool, url, reason) from reason  # type: ignore[arg-type]\n",
      "    ^^^^^^^^^^^^^^^^^^^^^^^^^^^^^^^^^^^^^^^^^^^^^^^^^^^\n",
      "urllib3.exceptions.MaxRetryError: HTTPConnectionPool(host='localhost', port=4040): Max retries exceeded with url: /api/tunnels (Caused by NewConnectionError('<urllib3.connection.HTTPConnection object at 0x00000219391BB8D0>: Failed to establish a new connection: [WinError 10061] Nenhuma conexão pôde ser feita porque a máquina de destino as recusou ativamente'))\n",
      "\n",
      "During handling of the above exception, another exception occurred:\n",
      "\n",
      "Traceback (most recent call last):\n",
      "  File \"C:\\ProgramData\\anaconda3\\Lib\\threading.py\", line 1045, in _bootstrap_inner\n",
      "    self.run()\n",
      "  File \"C:\\ProgramData\\anaconda3\\Lib\\threading.py\", line 1401, in run\n",
      "    self.function(*self.args, **self.kwargs)\n",
      "  File \"C:\\Users\\charl\\AppData\\Roaming\\Python\\Python311\\site-packages\\flask_ngrok.py\", line 70, in start_ngrok\n",
      "    ngrok_address = _run_ngrok()\n",
      "                    ^^^^^^^^^^^^\n",
      "  File \"C:\\Users\\charl\\AppData\\Roaming\\Python\\Python311\\site-packages\\flask_ngrok.py\", line 35, in _run_ngrok\n",
      "    tunnel_url = requests.get(localhost_url).text  # Get the tunnel information\n",
      "                 ^^^^^^^^^^^^^^^^^^^^^^^^^^^\n",
      "  File \"C:\\ProgramData\\anaconda3\\Lib\\site-packages\\requests\\api.py\", line 73, in get\n",
      "    return request(\"get\", url, params=params, **kwargs)\n",
      "           ^^^^^^^^^^^^^^^^^^^^^^^^^^^^^^^^^^^^^^^^^^^^\n",
      "  File \"C:\\ProgramData\\anaconda3\\Lib\\site-packages\\requests\\api.py\", line 59, in request\n",
      "    return session.request(method=method, url=url, **kwargs)\n",
      "           ^^^^^^^^^^^^^^^^^^^^^^^^^^^^^^^^^^^^^^^^^^^^^^^^^\n",
      "  File \"C:\\ProgramData\\anaconda3\\Lib\\site-packages\\requests\\sessions.py\", line 589, in request\n",
      "    resp = self.send(prep, **send_kwargs)\n",
      "           ^^^^^^^^^^^^^^^^^^^^^^^^^^^^^^\n",
      "  File \"C:\\ProgramData\\anaconda3\\Lib\\site-packages\\requests\\sessions.py\", line 703, in send\n",
      "    r = adapter.send(request, **kwargs)\n",
      "        ^^^^^^^^^^^^^^^^^^^^^^^^^^^^^^^\n",
      "  File \"C:\\ProgramData\\anaconda3\\Lib\\site-packages\\requests\\adapters.py\", line 519, in send\n",
      "    raise ConnectionError(e, request=request)\n",
      "requests.exceptions.ConnectionError: HTTPConnectionPool(host='localhost', port=4040): Max retries exceeded with url: /api/tunnels (Caused by NewConnectionError('<urllib3.connection.HTTPConnection object at 0x00000219391BB8D0>: Failed to establish a new connection: [WinError 10061] Nenhuma conexão pôde ser feita porque a máquina de destino as recusou ativamente'))\n"
     ]
    }
   ],
   "source": [
    "from flask import Flask, render_template, request, redirect, url_for\n",
    "from flask_ngrok import run_with_ngrok  # Importa o ngrok\n",
    "\n",
    "app = Flask(__name__)\n",
    "run_with_ngrok(app)  # Inicia o ngrok junto com o Flask\n",
    "\n",
    "# Estoque inicial\n",
    "estoque = {\n",
    "    'netbooks': 160,\n",
    "    'tablets': 80,\n",
    "    'chromebooks': 40,\n",
    "    'salas_audiovisual': 3\n",
    "}\n",
    "\n",
    "# Reservas\n",
    "reservas = {\n",
    "    'netbooks': 0,\n",
    "    'tablets': 0,\n",
    "    'chromebooks': 0,\n",
    "    'salas_audiovisual': 0\n",
    "}\n",
    "\n",
    "@app.route('/')\n",
    "def index():\n",
    "    # Calcula o estoque atual com base nas reservas\n",
    "    estoque_atual = {item: estoque[item] - reservas[item] for item in estoque}\n",
    "    return render_template('index.html', estoque_atual=estoque_atual)\n",
    "\n",
    "@app.route('/solicitar', methods=['GET', 'POST'])\n",
    "def solicitar():\n",
    "    if request.method == 'POST':\n",
    "        item = request.form['item']\n",
    "        quantidade = int(request.form['quantidade'])\n",
    "        prioridade = 'prioridade' in request.form\n",
    "        \n",
    "        # Verifica disponibilidade\n",
    "        if estoque[item] - reservas[item] >= quantidade:\n",
    "            reservas[item] += quantidade\n",
    "            return redirect(url_for('reserva_confirmada', item=item, quantidade=quantidade, prioridade=prioridade))\n",
    "        else:\n",
    "            return \"Estoque insuficiente!\", 400\n",
    "    \n",
    "    return render_template('solicitar.html')\n",
    "\n",
    "@app.route('/reserva_confirmada')\n",
    "def reserva_confirmada():\n",
    "    item = request.args.get('item')\n",
    "    quantidade = request.args.get('quantidade')\n",
    "    prioridade = request.args.get('prioridade', False)\n",
    "    return render_template('reserva_confirmada.html', item=item, quantidade=quantidade, prioridade=prioridade)\n",
    "\n",
    "if __name__ == '__main__':\n",
    "    app.run()\n"
   ]
  },
  {
   "cell_type": "markdown",
   "id": "c2752054-119e-43da-b18e-e4d164d6be5d",
   "metadata": {},
   "source": [
    "### 3.1 Rodar o Flask e Ngrok\n",
    "Depois de rodar o código acima, o ngrok vai gerar um link público que permitirá acessar o seu servidor Flask remotamente. "
   ]
  },
  {
   "cell_type": "markdown",
   "id": "769efa3d-26c6-44b3-99c6-63617215e9e2",
   "metadata": {},
   "source": [
    "### OBS: Se rodar adequadamente o aplicativo com o layout HTML, utilize o link disponibilizado. <br> Caso não rode, pode ser algum problema de firewall em razão do uso da porta 4040 ou do ngrok."
   ]
  },
  {
   "cell_type": "markdown",
   "id": "e771cc67-d254-46bb-9af5-e3af9d6f9f1e",
   "metadata": {},
   "source": [
    "# 4. (EXTRA) Caso o link não funcione"
   ]
  },
  {
   "cell_type": "markdown",
   "id": "8e84e284-ffea-42d5-b1ce-ab27e9777ebc",
   "metadata": {},
   "source": [
    "### 4.1 Copie o código completo do Flask (passo 3) para um arquivo Python (.py) separado\n",
    "Chamei de controle_estoque.py e salvei na pasta de trabalho Templates. \n"
   ]
  },
  {
   "cell_type": "markdown",
   "id": "609a06e8-7322-4e10-b373-6ec43ab9fffc",
   "metadata": {},
   "source": [
    "### 4.2 Rodar o Flask localmente\n",
    " Abra o terminal ou prompt de comando (atenção: fora do Jupyter Notebook).\n",
    "\n",
    "Navegue até a pasta onde você salvou o arquivo controle_estoque.py. \n",
    "Use o comando cd para navegar no diretório no terminal. Segue exemplo:\n",
    "<br> Suponde que tenha sido salvo em **C:\\Users\\charl\\templates**, no terminal insira o comando\n",
    "**cd C:\\Users\\charl\\templates**\n",
    "<br> Feito isso, rode o codigo Flask com o seguinte comando.\n",
    "<br> **python controle_estoque.py**"
   ]
  },
  {
   "cell_type": "markdown",
   "id": "787b6ec3-b4ad-4179-9861-d064c12e23e6",
   "metadata": {},
   "source": [
    "Resultado esperado: Isso deve iniciar o servidor Flask localmente , exibindo uma mensagem como: <br> * Running on http://127.0.0.1:5000/ (Press CTRL+C to quit)\n"
   ]
  },
  {
   "cell_type": "code",
   "execution_count": null,
   "id": "18c7b7dc-b7b1-4ca3-b516-640bb1e5d813",
   "metadata": {},
   "outputs": [],
   "source": []
  },
  {
   "cell_type": "code",
   "execution_count": null,
   "id": "5c562d4e-2684-4b53-acdd-f753cab9d092",
   "metadata": {},
   "outputs": [],
   "source": []
  },
  {
   "cell_type": "code",
   "execution_count": null,
   "id": "a535fb22-1ef0-478d-a297-bb9d084cd4f4",
   "metadata": {},
   "outputs": [],
   "source": []
  }
 ],
 "metadata": {
  "kernelspec": {
   "display_name": "Python 3 (ipykernel)",
   "language": "python",
   "name": "python3"
  },
  "language_info": {
   "codemirror_mode": {
    "name": "ipython",
    "version": 3
   },
   "file_extension": ".py",
   "mimetype": "text/x-python",
   "name": "python",
   "nbconvert_exporter": "python",
   "pygments_lexer": "ipython3",
   "version": "3.11.7"
  }
 },
 "nbformat": 4,
 "nbformat_minor": 5
}
